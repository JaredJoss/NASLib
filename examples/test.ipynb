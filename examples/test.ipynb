{
 "cells": [
  {
   "cell_type": "code",
   "execution_count": 13,
   "metadata": {},
   "outputs": [],
   "source": [
    "from naslib.search_spaces import NasBench201SearchSpace, NasBench101SearchSpace\n",
    "from naslib.utils import get_dataset_api, setup_logger, get_zc_benchmark_api\n",
    "from naslib.utils import get_train_val_loaders, get_project_root\n",
    "from fvcore.common.config import CfgNode\n",
    "from tqdm import tqdm\n",
    "from naslib.defaults.predictor_evaluator import PredictorEvaluator\n",
    "from naslib.predictors import XGBoost\n",
    "from naslib.utils.encodings import EncodingType\n",
    "import torch\n",
    "import torch.nn as nn\n",
    "import torch.optim as optim\n",
    "from torch.utils.data import Dataset, DataLoader\n",
    "\n",
    "from scipy.stats import kendalltau, spearmanr\n",
    "import random\n",
    "from tqdm import tqdm\n",
    "from naslib.search_spaces.core.query_metrics import Metric\n",
    "from naslib.predictors import ZeroCost\n",
    "from naslib.search_spaces import NasBench201SearchSpace"
   ]
  },
  {
   "cell_type": "code",
   "execution_count": 3,
   "metadata": {},
   "outputs": [],
   "source": [
    "## Zero cost proxies for performance prediction\n",
    "def evaluate_predictions(y_true, y_pred):\n",
    "  res = {}\n",
    "  res['kendalltau'] = kendalltau(y_true, y_pred)[0]\n",
    "  res['spearmanr'] = spearmanr(y_true, y_pred)[0]\n",
    "\n",
    "  return res\n",
    "\n",
    "def iterate_whole_searchspace(search_space, dataset_api, seed=None, shuffle=False):\n",
    "  # Note - for nb301, this method only returns the training set architectures\n",
    "  arch_iter = search_space.get_arch_iterator(dataset_api)\n",
    "  if shuffle:\n",
    "    arch_iter = list(arch_iter)\n",
    "    rng = random if seed is None else random.Random(seed)\n",
    "    rng.shuffle(arch_iter)\n",
    "\n",
    "  for arch_str in arch_iter:\n",
    "    yield arch_str\n",
    "\n",
    "\n",
    "def sample_arch_dataset(search_space, dataset, dataset_api, data_size=None, arch_hashes=None, seed=None, shuffle=False):\n",
    "  xdata = []\n",
    "  ydata = []\n",
    "  train_times = []\n",
    "  arch_hashes = arch_hashes if arch_hashes is not None else set()\n",
    "\n",
    "  # Cloning NASLib objects takes some time - this is a hack-... speedup so that\n",
    "  # we can quickly get all architecture hashes and accuracies in a searchspace.\n",
    "  # However, not all methods are available - e.g. you can't encode the architecture\n",
    "  search_space = search_space.clone()\n",
    "  search_space.instantiate_model = False\n",
    "  arch_iterator = iterate_whole_searchspace(search_space, dataset_api, shuffle=shuffle, seed=seed)\n",
    "\n",
    "  # iterate over architecture hashes\n",
    "  for arch in tqdm(arch_iterator):\n",
    "      if data_size is not None and len(xdata) >= data_size:\n",
    "        break\n",
    "\n",
    "      if arch in arch_hashes:\n",
    "          continue\n",
    "\n",
    "      arch_hashes.add(arch)\n",
    "      search_space.set_spec(arch)\n",
    "\n",
    "      # query metric for the current architecture hash\n",
    "      accuracy = search_space.query(metric=Metric.TRAIN_ACCURACY, dataset=dataset, dataset_api=dataset_api)\n",
    "      train_time = search_space.query(metric=Metric.TRAIN_TIME, dataset=dataset, dataset_api=dataset_api)\n",
    "\n",
    "      xdata.append(arch)\n",
    "      ydata.append(accuracy)\n",
    "      train_times.append(train_time)\n",
    "\n",
    "  return [xdata, ydata, train_times], arch_hashes\n",
    "\n",
    "def encode_archs(search_space, arch_ops, encoding=None, verbose=True):\n",
    "    encoded = []\n",
    "\n",
    "    for arch_str in tqdm(arch_ops, disable=not verbose):\n",
    "        arch = search_space.clone()\n",
    "        arch.set_spec(arch_str)\n",
    "\n",
    "        arch = arch.encode(encoding) if encoding is not None else arch\n",
    "        encoded.append(arch)\n",
    "\n",
    "    return encoded\n",
    "\n",
    "def eval_zcp(model, zc_name, data_loader):\n",
    "    model = encode_archs(NasBench201SearchSpace(), [model], verbose=False)[0]\n",
    "    model.parse()\n",
    "    zc_pred = ZeroCost(method_type=zc_name)\n",
    "    res = zc_pred.query(graph=model, dataloader=data_loader)\n",
    "\n",
    "    return {zc_name: res}"
   ]
  },
  {
   "cell_type": "code",
   "execution_count": 64,
   "metadata": {},
   "outputs": [],
   "source": [
    "dataset = 'cifar100' #'ImageNet16-120' \n",
    "seed = 2\n",
    "benchmark = 'nasbench201'\n",
    "num_archs_train = 1000\n",
    "num_archs_test = 1000\n",
    "zc_proxies = ['epe_nas', 'fisher', 'grad_norm', 'grasp', 'jacov', 'l2_norm', 'nwot', 'plain', 'snip', 'synflow', 'zen', 'flops', 'params']"
   ]
  },
  {
   "cell_type": "code",
   "execution_count": 65,
   "metadata": {},
   "outputs": [],
   "source": [
    "def get_model_inputs(dataset, archs, zc_proxies):\n",
    "  inputs = []\n",
    "  for arch in archs:\n",
    "      inputs.append([dataset[str(arch)].get(metric_name, 0)['score'] for metric_name in zc_proxies])\n",
    "  return inputs"
   ]
  },
  {
   "cell_type": "code",
   "execution_count": 78,
   "metadata": {},
   "outputs": [],
   "source": [
    "def get_test_train_samples(dataset):\n",
    "    seed = 2\n",
    "    pred_dataset = dataset\n",
    "    # get data from api\n",
    "    pred_api = get_dataset_api(search_space=benchmark, dataset=dataset)\n",
    "    train_size = num_archs_train\n",
    "    test_size = num_archs_test\n",
    "\n",
    "    train_sample, train_hashes = sample_arch_dataset(NasBench201SearchSpace(), pred_dataset, pred_api, data_size=train_size, shuffle=True, seed=seed)\n",
    "    test_sample, _ = sample_arch_dataset(NasBench201SearchSpace(), pred_dataset, pred_api, arch_hashes=train_hashes, data_size=test_size, shuffle=True, seed=seed+1)\n",
    "\n",
    "    xtrain, ytrain, _ = train_sample\n",
    "    xtest, ytest, _ = test_sample\n",
    "\n",
    "    return xtrain, xtest, ytrain, ytest\n",
    "        "
   ]
  },
  {
   "cell_type": "code",
   "execution_count": 66,
   "metadata": {},
   "outputs": [
    {
     "name": "stdout",
     "output_type": "stream",
     "text": [
      "Files already downloaded and verified\n",
      "Files already downloaded and verified\n"
     ]
    },
    {
     "name": "stderr",
     "output_type": "stream",
     "text": [
      "1000it [00:00, 51211.25it/s]\n",
      "1070it [00:00, 60575.33it/s]\n"
     ]
    }
   ],
   "source": [
    "# Create configs required for get_train_val_loaders\n",
    "config_dict = {\n",
    "      'dataset': dataset, # Dataset to loader: can be cifar10, cifar100, ImageNet16-120\n",
    "      'data': str(get_project_root()) + '/data', # path to naslib/data where cifar is saved\n",
    "      'search': {\n",
    "          'seed': seed, # Seed to use in the train, validation and test dataloaders\n",
    "          'train_portion': 0.7, # Portion of train dataset to use as train dataset. The rest is used as validation dataset.\n",
    "          'batch_size': 32, # batch size of the dataloaders\n",
    "      }\n",
    "  }\n",
    "config = CfgNode(config_dict)\n",
    "\n",
    "# Get the dataloaders\n",
    "train_loader, val_loader, test_loader, train_transform, valid_transform = get_train_val_loaders(config)\n",
    "\n",
    "seed = seed\n",
    "pred_dataset = dataset\n",
    "# get data from api\n",
    "zc_api = get_zc_benchmark_api(benchmark, pred_dataset)\n",
    "pred_api = get_dataset_api(search_space=benchmark, dataset=dataset)\n",
    "train_size = num_archs_train\n",
    "test_size = num_archs_test\n",
    "\n",
    "train_sample, train_hashes = sample_arch_dataset(NasBench201SearchSpace(), pred_dataset, pred_api, data_size=train_size, shuffle=True, seed=seed)\n",
    "test_sample, test_hashes = sample_arch_dataset(NasBench201SearchSpace(), pred_dataset, pred_api, arch_hashes=train_hashes, data_size=test_size, shuffle=True, seed=seed+1)\n",
    "\n",
    "xtrain, ytrain, _ = train_sample\n",
    "xtest, ytest, _ = test_sample"
   ]
  },
  {
   "cell_type": "code",
   "execution_count": 67,
   "metadata": {},
   "outputs": [],
   "source": [
    "# prepare the inputs and targets based on the modified combined_data_list\n",
    "inputs_train = get_model_inputs(zc_api, xtrain, zc_proxies)\n",
    "inputs_test = get_model_inputs(zc_api, xtest, zc_proxies)"
   ]
  },
  {
   "cell_type": "markdown",
   "metadata": {},
   "source": [
    "## XGBoost"
   ]
  },
  {
   "cell_type": "code",
   "execution_count": 68,
   "metadata": {},
   "outputs": [],
   "source": [
    "from xgboost import XGBRegressor\n",
    "import numpy as np\n",
    "from scipy.stats import kendalltau, spearmanr"
   ]
  },
  {
   "cell_type": "code",
   "execution_count": 69,
   "metadata": {},
   "outputs": [],
   "source": [
    "def evaluate_predictions(y_true, y_pred):\n",
    "  res = {}\n",
    "  res['kendalltau'] = kendalltau(y_true, y_pred)[0]\n",
    "  res['spearmanr'] = spearmanr(y_true, y_pred)[0]\n",
    "\n",
    "  return res"
   ]
  },
  {
   "cell_type": "code",
   "execution_count": 113,
   "metadata": {},
   "outputs": [],
   "source": [
    "# Function to train the model with incremental features\n",
    "def train_with_incremental_features(benchmark, zc_proxies):\n",
    "    metrics_dataset = {}  # To store metrics for each iteration\n",
    "\n",
    "    for dataset in zc_proxies.keys():\n",
    "        metrics_all = []\n",
    "        for i in range(1, len(zc_proxies[dataset]) + 1):  # Iterate over increasing number of features\n",
    "            # Select the first i features from zc_proxies\n",
    "            zc_api = get_zc_benchmark_api(benchmark, dataset)\n",
    "            selected_proxies = zc_proxies[dataset][:i]\n",
    "            xtrain, xtest, ytrain, ytest = get_test_train_samples(dataset)\n",
    "\n",
    "            # Prepare inputs based on selected features\n",
    "            inputs_train = np.array(get_model_inputs(zc_api, xtrain, selected_proxies))\n",
    "            inputs_test = np.array(get_model_inputs(zc_api, xtest, selected_proxies))\n",
    "\n",
    "            # Initialize and train the model\n",
    "            model = XGBRegressor()\n",
    "            model.fit(inputs_train, ytrain)\n",
    "\n",
    "            # Make predictions\n",
    "            predictions = model.predict(inputs_test)\n",
    "\n",
    "            # Evaluate predictions\n",
    "            metrics = evaluate_predictions(ytest, predictions)\n",
    "            metrics_all.append(metrics)\n",
    "        metrics_dataset[dataset] = metrics_all\n",
    "\n",
    "    return metrics_dataset"
   ]
  },
  {
   "cell_type": "code",
   "execution_count": 124,
   "metadata": {},
   "outputs": [
    {
     "name": "stderr",
     "output_type": "stream",
     "text": [
      "1000it [00:00, 48475.05it/s]\n",
      "1070it [00:00, 57394.50it/s]\n",
      "1000it [00:00, 58407.54it/s]\n",
      "1070it [00:00, 61664.84it/s]\n",
      "1000it [00:00, 57974.01it/s]\n",
      "1070it [00:00, 62270.61it/s]\n",
      "1000it [00:00, 57656.83it/s]\n",
      "1070it [00:00, 56488.59it/s]\n",
      "1000it [00:00, 57042.08it/s]\n",
      "1070it [00:00, 56954.56it/s]\n",
      "1000it [00:00, 57320.38it/s]\n",
      "1070it [00:00, 56445.96it/s]\n",
      "1000it [00:00, 53191.43it/s]\n",
      "1070it [00:00, 57654.03it/s]\n",
      "1000it [00:00, 57434.98it/s]\n",
      "1070it [00:00, 59921.03it/s]\n",
      "1000it [00:00, 55444.28it/s]\n",
      "1070it [00:00, 60768.08it/s]\n",
      "1000it [00:00, 56504.16it/s]\n",
      "1070it [00:00, 60860.38it/s]\n",
      "1000it [00:00, 56743.43it/s]\n",
      "1070it [00:00, 61746.29it/s]\n",
      "1000it [00:00, 57856.46it/s]\n",
      "1070it [00:00, 61146.46it/s]\n",
      "1000it [00:00, 56990.15it/s]\n",
      "1070it [00:00, 54953.05it/s]\n",
      "1000it [00:00, 51842.97it/s]\n",
      "1070it [00:00, 51351.38it/s]\n",
      "1000it [00:00, 56208.09it/s]\n",
      "1070it [00:00, 60952.13it/s]\n",
      "1000it [00:00, 53134.83it/s]\n",
      "1070it [00:00, 54874.43it/s]\n",
      "1000it [00:00, 53240.05it/s]\n",
      "1070it [00:00, 57180.24it/s]\n",
      "1000it [00:00, 55175.14it/s]\n",
      "1070it [00:00, 57772.78it/s]\n",
      "1000it [00:00, 49860.37it/s]\n",
      "1070it [00:00, 60322.93it/s]\n",
      "1000it [00:00, 52850.95it/s]\n",
      "1070it [00:00, 58901.03it/s]\n",
      "1000it [00:00, 53510.38it/s]\n",
      "1070it [00:00, 56162.00it/s]\n",
      "1000it [00:00, 49679.65it/s]\n",
      "1070it [00:00, 57762.37it/s]\n",
      "1000it [00:00, 56650.69it/s]\n",
      "1070it [00:00, 53265.74it/s]\n",
      "1000it [00:00, 53219.10it/s]\n",
      "1070it [00:00, 54689.20it/s]\n",
      "1000it [00:00, 52548.35it/s]\n",
      "1070it [00:00, 56007.10it/s]\n",
      "1000it [00:00, 55481.68it/s]\n",
      "1070it [00:00, 55760.77it/s]\n",
      "1000it [00:00, 49840.22it/s]\n",
      "1070it [00:00, 56631.15it/s]\n",
      "1000it [00:00, 52068.87it/s]\n",
      "1070it [00:00, 59931.43it/s]\n",
      "1000it [00:00, 56676.72it/s]\n",
      "1070it [00:00, 59853.90it/s]\n",
      "1000it [00:00, 57191.42it/s]\n",
      "1070it [00:00, 53028.47it/s]\n",
      "1000it [00:00, 58719.90it/s]\n",
      "1070it [00:00, 55717.85it/s]\n",
      "1000it [00:00, 52901.61it/s]\n",
      "1070it [00:00, 53947.65it/s]\n",
      "1000it [00:00, 52640.02it/s]\n",
      "1070it [00:00, 58082.33it/s]\n",
      "1000it [00:00, 56927.50it/s]\n",
      "1070it [00:00, 53830.53it/s]\n",
      "1000it [00:00, 56769.54it/s]\n",
      "1070it [00:00, 61211.51it/s]\n",
      "1000it [00:00, 56879.63it/s]\n",
      "1070it [00:00, 60978.63it/s]\n",
      "1000it [00:00, 54606.22it/s]\n",
      "1070it [00:00, 62058.79it/s]\n",
      "1000it [00:00, 56588.78it/s]\n",
      "1070it [00:00, 56703.42it/s]\n",
      "1000it [00:00, 53911.36it/s]\n",
      "1070it [00:00, 59090.26it/s]\n"
     ]
    }
   ],
   "source": [
    "# cifar 10\n",
    "zc_proxies_cifar10 = ['synflow', 'nwot', 'params', 'flops', 'l2_norm', 'jacov', 'epe_nas', 'snip', 'grad_norm', 'grasp', 'fisher', 'zen', 'plain']\n",
    "# cifar 100\n",
    "zc_proxies_cifar100 = ['synflow', 'nwot', 'params', 'flops', 'l2_norm', 'snip', 'grad_norm', 'jacov', 'grasp', 'fisher', 'epe_nas', 'zen', 'plain']\n",
    "# imagenet\n",
    "zc_proxies_imagent = ['nwot', 'synflow', 'jacov', 'l2_norm', 'params', 'flops', 'snip', 'grad_norm', 'grasp', 'fisher', 'zen', 'epe_nas', 'plain']\n",
    "\n",
    "zc_proxies = {\"cifar10\": zc_proxies_cifar10, \"cifar100\": zc_proxies_cifar100, \"ImageNet16-120\": zc_proxies_imagent }\n",
    "\n",
    "benchmark = 'nasbench201'\n",
    "metrics_all = train_with_incremental_features(benchmark, zc_proxies)"
   ]
  },
  {
   "cell_type": "code",
   "execution_count": 137,
   "metadata": {},
   "outputs": [
    {
     "name": "stdout",
     "output_type": "stream",
     "text": [
      "cifar10\n",
      "cifar100\n",
      "ImageNet16-120\n"
     ]
    },
    {
     "data": {
      "image/png": "[encoded data removed]",
      "text/plain": [
       "<Figure size 1600x600 with 3 Axes>"
      ]
     },
     "metadata": {},
     "output_type": "display_data"
    }
   ],
   "source": [
    "# Plot the results\n",
    "import matplotlib.pyplot as plt\n",
    "\n",
    "plt.figure(figsize=(16, 6))\n",
    "plt.rcParams.update({'font.size': 15})  # Update all font sizes\n",
    "\n",
    "for i, dataset in enumerate(metrics_all.keys()):\n",
    "    print(dataset)\n",
    "    plt.subplot(1, 3, i + 1)\n",
    "    plt.plot(range(1, len(metrics_all[dataset]) + 1), [m['spearmanr'] for m in metrics_all[dataset]], marker='o', linestyle='-')\n",
    "    plt.title(f'{dataset}')\n",
    "    plt.xlabel('Number of Proxies')\n",
    "    if i == 0:\n",
    "        plt.ylabel('Spearman Correlation')\n",
    "    plt.grid(True)\n",
    "\n",
    "plt.tight_layout()\n",
    "plt.savefig('xgboost_num_proxies_vs_correlation.png', dpi=500)\n",
    "# plt.show()"
   ]
  },
  {
   "cell_type": "markdown",
   "metadata": {},
   "source": [
    "## Tune XGBoost"
   ]
  },
  {
   "cell_type": "code",
   "execution_count": 120,
   "metadata": {},
   "outputs": [
    {
     "name": "stderr",
     "output_type": "stream",
     "text": [
      "1000it [00:00, 55527.22it/s]\n",
      "1070it [00:00, 60401.68it/s]\n"
     ]
    }
   ],
   "source": [
    "benchmark = 'nasbench201'\n",
    "dataset = 'cifar10'\n",
    "xtrain, xtest, ytrain, ytest = get_test_train_samples(dataset)\n",
    "\n",
    "zc_proxies = ['synflow', 'nwot', 'params', 'flops', 'l2_norm', 'jacov', 'epe_nas', 'snip', 'grad_norm', 'grasp', 'fisher', 'zen', 'plain']\n",
    "\n",
    "zc_api = get_zc_benchmark_api(benchmark, dataset)\n",
    "# Prepare inputs based on selected features\n",
    "inputs_train = np.array(get_model_inputs(zc_api, xtrain, zc_proxies))\n",
    "inputs_test = np.array(get_model_inputs(zc_api, xtest, zc_proxies))"
   ]
  },
  {
   "cell_type": "code",
   "execution_count": 1,
   "metadata": {},
   "outputs": [],
   "source": [
    "from sklearn.model_selection import GridSearchCV\n",
    "from xgboost import XGBRegressor\n",
    "\n",
    "# Define a parameter grid to search\n",
    "param_grid = {\n",
    "    'learning_rate': [0.01, 0.1, 0.2, 0.3, 0.4],\n",
    "    'n_estimators': [100, 200, 300, 400],\n",
    "    'max_depth': [2, 3, 4, 5, 6, 7],\n",
    "    'subsample': [0.3, 0.5, 0.7, 1.0],\n",
    "    'colsample_bytree': [0.5, 0.7, 1.0],\n",
    "    'gamma': [0, 0.1, 0.2],\n",
    "    'min_child_weight': [1, 2, 10, 20],\n",
    "    'sampling_method': ['uniform', 'gradient_based'],\n",
    "    'alpha': [0, 1, 5],\n",
    "    'tree_method': ['auto', 'exact', 'approx', 'hist'],\n",
    "}\n",
    "\n",
    "# Initialize XGBRegressor\n",
    "xgb = XGBRegressor()\n",
    "\n",
    "# Create GridSearchCV object\n",
    "grid_search = GridSearchCV(estimator=xgb, param_grid=param_grid, cv=5, scoring='neg_mean_squared_error', n_jobs=-1)\n",
    "\n",
    "# Fit the GridSearchCV object to the data\n",
    "grid_search.fit(inputs_train, ytrain)\n",
    "\n",
    "# Get the best parameters and best score\n",
    "best_params = grid_search.best_params_\n",
    "best_score = grid_search.best_score_\n",
    "\n",
    "# Train XGBoost with the best parameters\n",
    "best_xgb = XGBRegressor(**best_params)\n",
    "best_xgb.fit(inputs_train, ytrain)\n",
    "\n",
    "# Make predictions\n",
    "predictions = best_xgb.predict(inputs_test)\n",
    "\n",
    "# Evaluate predictions\n",
    "metrics = evaluate_predictions(ytest, predictions)\n",
    "\n",
    "print(\"Best parameters:\", best_params)\n",
    "print(\"Best score:\", best_score)\n",
    "print(\"Metrics:\", metrics)"
   ]
  },
  {
   "cell_type": "markdown",
   "metadata": {},
   "source": [
    "## Analysis"
   ]
  },
  {
   "cell_type": "code",
   "execution_count": 23,
   "metadata": {},
   "outputs": [],
   "source": [
    "import pandas as pd\n",
    "import numpy as np"
   ]
  },
  {
   "cell_type": "code",
   "execution_count": 9,
   "metadata": {},
   "outputs": [
    {
     "data": {
      "text/html": [
       "<div>\n",
       "<style scoped>\n",
       "    .dataframe tbody tr th:only-of-type {\n",
       "        vertical-align: middle;\n",
       "    }\n",
       "\n",
       "    .dataframe tbody tr th {\n",
       "        vertical-align: top;\n",
       "    }\n",
       "\n",
       "    .dataframe thead th {\n",
       "        text-align: right;\n",
       "    }\n",
       "</style>\n",
       "<table border=\"1\" class=\"dataframe\">\n",
       "  <thead>\n",
       "    <tr style=\"text-align: right;\">\n",
       "      <th></th>\n",
       "      <th>cifar10</th>\n",
       "      <th>cifar100</th>\n",
       "      <th>ImageNet16-120</th>\n",
       "    </tr>\n",
       "  </thead>\n",
       "  <tbody>\n",
       "    <tr>\n",
       "      <th>(4, 0, 3, 1, 4, 3)</th>\n",
       "      <td>{'id': 0, 'epe_nas': {'score': 1283.2991078420...</td>\n",
       "      <td>{'id': 0, 'epe_nas': {'score': 148.58328809884...</td>\n",
       "      <td>{'id': 0, 'epe_nas': {'score': 21.702864035718...</td>\n",
       "    </tr>\n",
       "    <tr>\n",
       "      <th>(2, 4, 0, 0, 3, 2)</th>\n",
       "      <td>{'id': 1, 'epe_nas': {'score': 1712.8606142675...</td>\n",
       "      <td>{'id': 1, 'epe_nas': {'score': 227.60375864047...</td>\n",
       "      <td>{'id': 1, 'epe_nas': {'score': 18.293350920702...</td>\n",
       "    </tr>\n",
       "    <tr>\n",
       "      <th>(2, 0, 3, 1, 4, 1)</th>\n",
       "      <td>{'id': 2, 'epe_nas': {'score': 1640.7857527934...</td>\n",
       "      <td>{'id': 2, 'epe_nas': {'score': 162.42225487987...</td>\n",
       "      <td>{'id': 2, 'epe_nas': {'score': 25.675654255925...</td>\n",
       "    </tr>\n",
       "    <tr>\n",
       "      <th>(0, 0, 2, 1, 2, 3)</th>\n",
       "      <td>{'id': 3, 'epe_nas': {'score': 1892.5586892525...</td>\n",
       "      <td>{'id': 3, 'epe_nas': {'score': 177.87743910936...</td>\n",
       "      <td>{'id': 3, 'epe_nas': {'score': 19.966564922646...</td>\n",
       "    </tr>\n",
       "    <tr>\n",
       "      <th>(4, 4, 1, 2, 1, 1)</th>\n",
       "      <td>{'id': 4, 'epe_nas': {'score': -100000000.0, '...</td>\n",
       "      <td>{'id': 4, 'epe_nas': {'score': -100000000.0, '...</td>\n",
       "      <td>{'id': 4, 'epe_nas': {'score': -100000000.0, '...</td>\n",
       "    </tr>\n",
       "    <tr>\n",
       "      <th>...</th>\n",
       "      <td>...</td>\n",
       "      <td>...</td>\n",
       "      <td>...</td>\n",
       "    </tr>\n",
       "    <tr>\n",
       "      <th>(4, 2, 1, 4, 3, 0)</th>\n",
       "      <td>{'id': 15620, 'epe_nas': {'score': 980.8660938...</td>\n",
       "      <td>{'id': 15620, 'epe_nas': {'score': 108.9082032...</td>\n",
       "      <td>{'id': 15620, 'epe_nas': {'score': 15.15141645...</td>\n",
       "    </tr>\n",
       "    <tr>\n",
       "      <th>(0, 2, 4, 2, 1, 1)</th>\n",
       "      <td>{'id': 15621, 'epe_nas': {'score': 857.1795331...</td>\n",
       "      <td>{'id': 15621, 'epe_nas': {'score': 55.55863862...</td>\n",
       "      <td>{'id': 15621, 'epe_nas': {'score': 8.883456682...</td>\n",
       "    </tr>\n",
       "    <tr>\n",
       "      <th>(2, 3, 3, 3, 2, 4)</th>\n",
       "      <td>{'id': 15622, 'epe_nas': {'score': 1811.417941...</td>\n",
       "      <td>{'id': 15622, 'epe_nas': {'score': 222.8118390...</td>\n",
       "      <td>{'id': 15622, 'epe_nas': {'score': 33.02071144...</td>\n",
       "    </tr>\n",
       "    <tr>\n",
       "      <th>(3, 1, 4, 2, 0, 4)</th>\n",
       "      <td>{'id': 15623, 'epe_nas': {'score': 1239.507051...</td>\n",
       "      <td>{'id': 15623, 'epe_nas': {'score': 110.9777888...</td>\n",
       "      <td>{'id': 15623, 'epe_nas': {'score': 39.32379648...</td>\n",
       "    </tr>\n",
       "    <tr>\n",
       "      <th>(0, 4, 1, 2, 0, 4)</th>\n",
       "      <td>{'id': 15624, 'epe_nas': {'score': 642.2489080...</td>\n",
       "      <td>{'id': 15624, 'epe_nas': {'score': 58.09083072...</td>\n",
       "      <td>{'id': 15624, 'epe_nas': {'score': 10.31463444...</td>\n",
       "    </tr>\n",
       "  </tbody>\n",
       "</table>\n",
       "<p>15625 rows × 3 columns</p>\n",
       "</div>"
      ],
      "text/plain": [
       "                                                              cifar10  \\\n",
       "(4, 0, 3, 1, 4, 3)  {'id': 0, 'epe_nas': {'score': 1283.2991078420...   \n",
       "(2, 4, 0, 0, 3, 2)  {'id': 1, 'epe_nas': {'score': 1712.8606142675...   \n",
       "(2, 0, 3, 1, 4, 1)  {'id': 2, 'epe_nas': {'score': 1640.7857527934...   \n",
       "(0, 0, 2, 1, 2, 3)  {'id': 3, 'epe_nas': {'score': 1892.5586892525...   \n",
       "(4, 4, 1, 2, 1, 1)  {'id': 4, 'epe_nas': {'score': -100000000.0, '...   \n",
       "...                                                               ...   \n",
       "(4, 2, 1, 4, 3, 0)  {'id': 15620, 'epe_nas': {'score': 980.8660938...   \n",
       "(0, 2, 4, 2, 1, 1)  {'id': 15621, 'epe_nas': {'score': 857.1795331...   \n",
       "(2, 3, 3, 3, 2, 4)  {'id': 15622, 'epe_nas': {'score': 1811.417941...   \n",
       "(3, 1, 4, 2, 0, 4)  {'id': 15623, 'epe_nas': {'score': 1239.507051...   \n",
       "(0, 4, 1, 2, 0, 4)  {'id': 15624, 'epe_nas': {'score': 642.2489080...   \n",
       "\n",
       "                                                             cifar100  \\\n",
       "(4, 0, 3, 1, 4, 3)  {'id': 0, 'epe_nas': {'score': 148.58328809884...   \n",
       "(2, 4, 0, 0, 3, 2)  {'id': 1, 'epe_nas': {'score': 227.60375864047...   \n",
       "(2, 0, 3, 1, 4, 1)  {'id': 2, 'epe_nas': {'score': 162.42225487987...   \n",
       "(0, 0, 2, 1, 2, 3)  {'id': 3, 'epe_nas': {'score': 177.87743910936...   \n",
       "(4, 4, 1, 2, 1, 1)  {'id': 4, 'epe_nas': {'score': -100000000.0, '...   \n",
       "...                                                               ...   \n",
       "(4, 2, 1, 4, 3, 0)  {'id': 15620, 'epe_nas': {'score': 108.9082032...   \n",
       "(0, 2, 4, 2, 1, 1)  {'id': 15621, 'epe_nas': {'score': 55.55863862...   \n",
       "(2, 3, 3, 3, 2, 4)  {'id': 15622, 'epe_nas': {'score': 222.8118390...   \n",
       "(3, 1, 4, 2, 0, 4)  {'id': 15623, 'epe_nas': {'score': 110.9777888...   \n",
       "(0, 4, 1, 2, 0, 4)  {'id': 15624, 'epe_nas': {'score': 58.09083072...   \n",
       "\n",
       "                                                       ImageNet16-120  \n",
       "(4, 0, 3, 1, 4, 3)  {'id': 0, 'epe_nas': {'score': 21.702864035718...  \n",
       "(2, 4, 0, 0, 3, 2)  {'id': 1, 'epe_nas': {'score': 18.293350920702...  \n",
       "(2, 0, 3, 1, 4, 1)  {'id': 2, 'epe_nas': {'score': 25.675654255925...  \n",
       "(0, 0, 2, 1, 2, 3)  {'id': 3, 'epe_nas': {'score': 19.966564922646...  \n",
       "(4, 4, 1, 2, 1, 1)  {'id': 4, 'epe_nas': {'score': -100000000.0, '...  \n",
       "...                                                               ...  \n",
       "(4, 2, 1, 4, 3, 0)  {'id': 15620, 'epe_nas': {'score': 15.15141645...  \n",
       "(0, 2, 4, 2, 1, 1)  {'id': 15621, 'epe_nas': {'score': 8.883456682...  \n",
       "(2, 3, 3, 3, 2, 4)  {'id': 15622, 'epe_nas': {'score': 33.02071144...  \n",
       "(3, 1, 4, 2, 0, 4)  {'id': 15623, 'epe_nas': {'score': 39.32379648...  \n",
       "(0, 4, 1, 2, 0, 4)  {'id': 15624, 'epe_nas': {'score': 10.31463444...  \n",
       "\n",
       "[15625 rows x 3 columns]"
      ]
     },
     "execution_count": 9,
     "metadata": {},
     "output_type": "execute_result"
    }
   ],
   "source": [
    "file = '/Users/jared/Documents/Personal/ICL/courses/ADLS/mase/NASLib/naslib/data/zc_nasbench201.json'\n",
    "df = pd.read_json(file)\n",
    "df = df[['cifar10', 'cifar100', 'ImageNet16-120']]\n",
    "df"
   ]
  },
  {
   "cell_type": "code",
   "execution_count": 35,
   "metadata": {},
   "outputs": [],
   "source": [
    "def get_total_time(df, zc_proxies):\n",
    "    df = df.copy()\n",
    "    times = []\n",
    "    datasets = [*df['cifar10'].tolist(), *df['cifar100'].tolist(), *df['ImageNet16-120'].tolist()]\n",
    "    for arch in datasets:\n",
    "        times.extend([arch[proxy]['time'] for proxy in zc_proxies])\n",
    "\n",
    "    return times"
   ]
  },
  {
   "cell_type": "code",
   "execution_count": 42,
   "metadata": {},
   "outputs": [
    {
     "data": {
      "text/plain": [
       "0.9433863686490882"
      ]
     },
     "execution_count": 42,
     "metadata": {},
     "output_type": "execute_result"
    }
   ],
   "source": [
    "zc_proxies = ['epe_nas', 'fisher', 'grad_norm', 'grasp', 'jacov', 'l2_norm', 'nwot', 'plain', 'snip', 'synflow', 'zen', 'flops', 'params']\n",
    "\n",
    "total_time = get_total_time(df, zc_proxies)\n",
    "np.mean(total_time)"
   ]
  },
  {
   "cell_type": "code",
   "execution_count": 43,
   "metadata": {},
   "outputs": [
    {
     "data": {
      "text/plain": [
       "1.8747283935546877e-05"
      ]
     },
     "execution_count": 43,
     "metadata": {},
     "output_type": "execute_result"
    }
   ],
   "source": [
    "total_api_time = 0.2929263114929199\n",
    "\n",
    "average_api_time = total_api_time/15625\n",
    "average_api_time"
   ]
  },
  {
   "cell_type": "code",
   "execution_count": null,
   "metadata": {},
   "outputs": [],
   "source": []
  }
 ],
 "metadata": {
  "kernelspec": {
   "display_name": "mase_env",
   "language": "python",
   "name": "python3"
  },
  "language_info": {
   "codemirror_mode": {
    "name": "ipython",
    "version": 3
   },
   "file_extension": ".py",
   "mimetype": "text/x-python",
   "name": "python",
   "nbconvert_exporter": "python",
   "pygments_lexer": "ipython3",
   "version": "3.10.6"
  }
 },
 "nbformat": 4,
 "nbformat_minor": 2
}
