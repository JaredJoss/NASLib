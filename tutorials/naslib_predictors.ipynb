{
 "cells": [
  {
   "cell_type": "code",
   "execution_count": null,
   "metadata": {},
   "outputs": [],
   "source": []
  }
 ],
 "metadata": {
  "kernelspec": {
   "display_name": "Python 3.7.13",
   "language": "python",
   "name": "python3"
  },
  "language_info": {
   "name": "python",
   "version": "3.7.13"
  },
  "orig_nbformat": 4,
  "vscode": {
   "interpreter": {
    "hash": "038eb57a20f88ef7511a254e74d936a687b24c3e24baaae0d4e87a78ebada9dd"
   }
  }
 },
 "nbformat": 4,
 "nbformat_minor": 2
}
